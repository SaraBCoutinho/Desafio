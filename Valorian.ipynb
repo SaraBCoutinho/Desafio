{
  "nbformat": 4,
  "nbformat_minor": 0,
  "metadata": {
    "colab": {
      "provenance": [],
      "toc_visible": true,
      "mount_file_id": "1MQruuhGTzZtxRBrxls9SocyxfpQOYsAK",
      "authorship_tag": "ABX9TyN1+8v05axWH6ShF3NSLXEm",
      "include_colab_link": true
    },
    "kernelspec": {
      "name": "python3",
      "display_name": "Python 3"
    },
    "language_info": {
      "name": "python"
    }
  },
  "cells": [
    {
      "cell_type": "markdown",
      "metadata": {
        "id": "view-in-github",
        "colab_type": "text"
      },
      "source": [
        "<a href=\"https://colab.research.google.com/github/SaraBCoutinho/Desafio/blob/main/Valorian.ipynb\" target=\"_parent\"><img src=\"https://colab.research.google.com/assets/colab-badge.svg\" alt=\"Open In Colab\"/></a>"
      ]
    },
    {
      "cell_type": "markdown",
      "source": [
        "📓 NOTEBOOK DO DESAFIO\n",
        "---------------------------------------------------------\n"
      ],
      "metadata": {
        "id": "lo-gIwyA-2w7"
      }
    },
    {
      "cell_type": "markdown",
      "source": [
        "\n",
        "**Objeto**: Este notebook contém o desenvolvimento da solução para o Desafio proposto.\n",
        "\n"
      ],
      "metadata": {
        "id": "tlu7zqaLnUbP"
      }
    },
    {
      "cell_type": "markdown",
      "source": [
        "Para desenvolver a solução seguindo um pipeline, este notebook esta dividido nos seguintes tópicos: \n",
        "*  Importação das bibliotecas\n",
        "*  Coleta de Dados \n",
        "*  Entendimento dos dados e Pré-processamento dos Dados "
      ],
      "metadata": {
        "id": "28dhoTmlkswl"
      }
    },
    {
      "cell_type": "markdown",
      "source": [
        "## 👨‍💻 Importação de bibliotecas"
      ],
      "metadata": {
        "id": "ELIuWYsIlA52"
      }
    },
    {
      "cell_type": "markdown",
      "source": [
        "Nesta etapa estao as bibliotecas que foram usadas no projeto. Ao lado de cada uma, está explicito sua usabilidade nele em forma de comentário. "
      ],
      "metadata": {
        "id": "5747ySARoa0c"
      }
    },
    {
      "cell_type": "code",
      "source": [
        " import pandas as pd #dataframe\n",
        " import math #expoente\n",
        " import regex as re #manipulação de strings\n",
        " import decimal # manipulaçao de valores de notaçao cientifica\n",
        " import scipy.stats as stats #teste de distribuiçao dos dados \n",
        " from datetime import datetime #timestamp\n",
        " from sklearn.preprocessing import LabelEncoder"
      ],
      "metadata": {
        "id": "qSW91r2l-_wG"
      },
      "execution_count": null,
      "outputs": []
    },
    {
      "cell_type": "code",
      "source": [
        "import matplotlib.pyplot as plt\n"
      ],
      "metadata": {
        "id": "9P31jZDCRPPE"
      },
      "execution_count": 371,
      "outputs": []
    },
    {
      "cell_type": "markdown",
      "source": [
        "## 🎲 Coleta de Dados"
      ],
      "metadata": {
        "id": "FsZP3fdfm1eO"
      }
    },
    {
      "cell_type": "markdown",
      "source": [
        "Nesta etapa o arquivo precisou ser dezipado e foi armazenado em formato de dataframe. "
      ],
      "metadata": {
        "id": "btWmVd7Yok3Z"
      }
    },
    {
      "cell_type": "code",
      "execution_count": null,
      "metadata": {
        "colab": {
          "base_uri": "https://localhost:8080/"
        },
        "id": "LbmktwPz-0jO",
        "outputId": "11f84c34-72f2-4723-d66e-837999aea8ff"
      },
      "outputs": [
        {
          "output_type": "stream",
          "name": "stdout",
          "text": [
            "Archive:  /content/drive/MyDrive/Candidaturas/coleta.txt.zip\n",
            "replace coleta.txt? [y]es, [n]o, [A]ll, [N]one, [r]ename: n\n",
            "replace __MACOSX/._coleta.txt? [y]es, [n]o, [A]ll, [N]one, [r]ename: n\n"
          ]
        }
      ],
      "source": [
        "#Dezipando o arquivo  \n",
        "!unzip /content/drive/MyDrive/Candidaturas/coleta.txt.zip\n",
        "\n",
        "#Criando dataframe para armazenar os dados\n",
        "Data=pd.read_csv('/content/coleta.txt',sep=\" \", header=None) #separador reconhecido foi o espaço em branco"
      ]
    },
    {
      "cell_type": "markdown",
      "source": [
        "## 🎲 Entendimento dos Dados e Pré-Processamento dos Dados"
      ],
      "metadata": {
        "id": "4bo9_HffoTBC"
      }
    },
    {
      "cell_type": "markdown",
      "source": [
        "Esta etapa contou com aplicaçao dos conceitos Data Lateracy buscando o entendimento dos dados e analise sobre eles para poder tratá-los corretamente e aplicar corretamente os algoritmos de aprendizagem. Alguns pontos foram seguidos: \n",
        "\n",
        "\n",
        "1.   Perguntas sobre os dados\n",
        "2.   Limpeza dos dados e eliminação de ruídos\n",
        "3.   Compreender dados uteis\n",
        "4.   Construir análises estatísticas\n",
        "\n",
        "As perguntas que guiaram a resoluçao foram: \n",
        "\n",
        "*   Quantos dados existem? \n",
        "\n",
        "*   As unidades dos dados esta de acordo com as variavéis propostas?\n",
        "\n",
        "*   Quais os ruidos existentes nos dados?\n",
        "\n",
        "*   Cada coluna do dataframe corresponde a qual variavel?\n",
        "\n",
        "Com base nisso foram cumpridos esses pontos. \n"
      ],
      "metadata": {
        "id": "suzs_9Czorg_"
      }
    },
    {
      "cell_type": "markdown",
      "source": [
        "### Perguntas sobre os dados "
      ],
      "metadata": {
        "id": "aMcBea2B2VO4"
      }
    },
    {
      "cell_type": "code",
      "source": [
        "#Visualizando 5 primeiras linhas do dataframe\n",
        "pd.DataFrame(Data.head(5))"
      ],
      "metadata": {
        "colab": {
          "base_uri": "https://localhost:8080/",
          "height": 206
        },
        "id": "9wTXWP8-2Od7",
        "outputId": "ec383aca-b225-42c7-f539-495fb0d98be0"
      },
      "execution_count": 231,
      "outputs": [
        {
          "output_type": "execute_result",
          "data": {
            "text/plain": [
              "                                                   0\n",
              "0  33,Jogging,49105962326000,-0.6946377,12.680544...\n",
              "1  33,Jogging,49106062271000,5.012288,11.264028,0...\n",
              "2  33,Jogging,49106112167000,4.903325,10.882658,-...\n",
              "3  33,Jogging,49106222305000,-0.61291564,18.49643...\n",
              "4  33,Jogging,49106332290000,-1.1849703,12.108489..."
            ],
            "text/html": [
              "\n",
              "  <div id=\"df-7376f062-9a02-45b8-a6a1-83cab5a6fbde\">\n",
              "    <div class=\"colab-df-container\">\n",
              "      <div>\n",
              "<style scoped>\n",
              "    .dataframe tbody tr th:only-of-type {\n",
              "        vertical-align: middle;\n",
              "    }\n",
              "\n",
              "    .dataframe tbody tr th {\n",
              "        vertical-align: top;\n",
              "    }\n",
              "\n",
              "    .dataframe thead th {\n",
              "        text-align: right;\n",
              "    }\n",
              "</style>\n",
              "<table border=\"1\" class=\"dataframe\">\n",
              "  <thead>\n",
              "    <tr style=\"text-align: right;\">\n",
              "      <th></th>\n",
              "      <th>0</th>\n",
              "    </tr>\n",
              "  </thead>\n",
              "  <tbody>\n",
              "    <tr>\n",
              "      <th>0</th>\n",
              "      <td>33,Jogging,49105962326000,-0.6946377,12.680544...</td>\n",
              "    </tr>\n",
              "    <tr>\n",
              "      <th>1</th>\n",
              "      <td>33,Jogging,49106062271000,5.012288,11.264028,0...</td>\n",
              "    </tr>\n",
              "    <tr>\n",
              "      <th>2</th>\n",
              "      <td>33,Jogging,49106112167000,4.903325,10.882658,-...</td>\n",
              "    </tr>\n",
              "    <tr>\n",
              "      <th>3</th>\n",
              "      <td>33,Jogging,49106222305000,-0.61291564,18.49643...</td>\n",
              "    </tr>\n",
              "    <tr>\n",
              "      <th>4</th>\n",
              "      <td>33,Jogging,49106332290000,-1.1849703,12.108489...</td>\n",
              "    </tr>\n",
              "  </tbody>\n",
              "</table>\n",
              "</div>\n",
              "      <button class=\"colab-df-convert\" onclick=\"convertToInteractive('df-7376f062-9a02-45b8-a6a1-83cab5a6fbde')\"\n",
              "              title=\"Convert this dataframe to an interactive table.\"\n",
              "              style=\"display:none;\">\n",
              "        \n",
              "  <svg xmlns=\"http://www.w3.org/2000/svg\" height=\"24px\"viewBox=\"0 0 24 24\"\n",
              "       width=\"24px\">\n",
              "    <path d=\"M0 0h24v24H0V0z\" fill=\"none\"/>\n",
              "    <path d=\"M18.56 5.44l.94 2.06.94-2.06 2.06-.94-2.06-.94-.94-2.06-.94 2.06-2.06.94zm-11 1L8.5 8.5l.94-2.06 2.06-.94-2.06-.94L8.5 2.5l-.94 2.06-2.06.94zm10 10l.94 2.06.94-2.06 2.06-.94-2.06-.94-.94-2.06-.94 2.06-2.06.94z\"/><path d=\"M17.41 7.96l-1.37-1.37c-.4-.4-.92-.59-1.43-.59-.52 0-1.04.2-1.43.59L10.3 9.45l-7.72 7.72c-.78.78-.78 2.05 0 2.83L4 21.41c.39.39.9.59 1.41.59.51 0 1.02-.2 1.41-.59l7.78-7.78 2.81-2.81c.8-.78.8-2.07 0-2.86zM5.41 20L4 18.59l7.72-7.72 1.47 1.35L5.41 20z\"/>\n",
              "  </svg>\n",
              "      </button>\n",
              "      \n",
              "  <style>\n",
              "    .colab-df-container {\n",
              "      display:flex;\n",
              "      flex-wrap:wrap;\n",
              "      gap: 12px;\n",
              "    }\n",
              "\n",
              "    .colab-df-convert {\n",
              "      background-color: #E8F0FE;\n",
              "      border: none;\n",
              "      border-radius: 50%;\n",
              "      cursor: pointer;\n",
              "      display: none;\n",
              "      fill: #1967D2;\n",
              "      height: 32px;\n",
              "      padding: 0 0 0 0;\n",
              "      width: 32px;\n",
              "    }\n",
              "\n",
              "    .colab-df-convert:hover {\n",
              "      background-color: #E2EBFA;\n",
              "      box-shadow: 0px 1px 2px rgba(60, 64, 67, 0.3), 0px 1px 3px 1px rgba(60, 64, 67, 0.15);\n",
              "      fill: #174EA6;\n",
              "    }\n",
              "\n",
              "    [theme=dark] .colab-df-convert {\n",
              "      background-color: #3B4455;\n",
              "      fill: #D2E3FC;\n",
              "    }\n",
              "\n",
              "    [theme=dark] .colab-df-convert:hover {\n",
              "      background-color: #434B5C;\n",
              "      box-shadow: 0px 1px 3px 1px rgba(0, 0, 0, 0.15);\n",
              "      filter: drop-shadow(0px 1px 2px rgba(0, 0, 0, 0.3));\n",
              "      fill: #FFFFFF;\n",
              "    }\n",
              "  </style>\n",
              "\n",
              "      <script>\n",
              "        const buttonEl =\n",
              "          document.querySelector('#df-7376f062-9a02-45b8-a6a1-83cab5a6fbde button.colab-df-convert');\n",
              "        buttonEl.style.display =\n",
              "          google.colab.kernel.accessAllowed ? 'block' : 'none';\n",
              "\n",
              "        async function convertToInteractive(key) {\n",
              "          const element = document.querySelector('#df-7376f062-9a02-45b8-a6a1-83cab5a6fbde');\n",
              "          const dataTable =\n",
              "            await google.colab.kernel.invokeFunction('convertToInteractive',\n",
              "                                                     [key], {});\n",
              "          if (!dataTable) return;\n",
              "\n",
              "          const docLinkHtml = 'Like what you see? Visit the ' +\n",
              "            '<a target=\"_blank\" href=https://colab.research.google.com/notebooks/data_table.ipynb>data table notebook</a>'\n",
              "            + ' to learn more about interactive tables.';\n",
              "          element.innerHTML = '';\n",
              "          dataTable['output_type'] = 'display_data';\n",
              "          await google.colab.output.renderOutput(dataTable, element);\n",
              "          const docLink = document.createElement('div');\n",
              "          docLink.innerHTML = docLinkHtml;\n",
              "          element.appendChild(docLink);\n",
              "        }\n",
              "      </script>\n",
              "    </div>\n",
              "  </div>\n",
              "  "
            ]
          },
          "metadata": {},
          "execution_count": 231
        }
      ]
    },
    {
      "cell_type": "code",
      "source": [
        "#Shape do dataframe: (quantidade de instancias, quantidade de colunas)\n",
        "print((Data.shape))"
      ],
      "metadata": {
        "colab": {
          "base_uri": "https://localhost:8080/"
        },
        "id": "A6tdaWIpqXIm",
        "outputId": "b098169d-b4b4-4a3f-bfaf-7f57d374c70f"
      },
      "execution_count": 232,
      "outputs": [
        {
          "output_type": "stream",
          "name": "stdout",
          "text": [
            "(1098204, 1)\n"
          ]
        }
      ]
    },
    {
      "cell_type": "markdown",
      "source": [
        "Por enquanto existem 1098204 instâncias e apenas 1 coluna.  Verifica-se que os dados estão num formato que precisa de ajuste.  Desta forma serão separados e cada elemento entre as virgulas será campo de nova coluna. De acordo com os campos, as colunas constatadas #df=df.rename(columns={0:'Individuo',1:'Atividade',2:'Timestamp',3:'X',4:'Y',5:'Z',7:'Atividade',8:'Timestamp',9:'X',10:'Y',11:'Z'})"
      ],
      "metadata": {
        "id": "cLhFvnkJrBsm"
      }
    },
    {
      "cell_type": "code",
      "source": [
        "#Separando os campos por virgula da coluna existente cujo nome é 0 \n",
        "Data[0] = Data[0].str.split(',')"
      ],
      "metadata": {
        "id": "Y8zqCypxrVd3"
      },
      "execution_count": 279,
      "outputs": []
    },
    {
      "cell_type": "markdown",
      "source": [
        "Cada elemento está em uma lista. Serão separados em diferentes colunas. Serão verificadas quantas colunas existem, pois podem ser mais do que a quantidade de variáveis propostas ou menos. "
      ],
      "metadata": {
        "id": "ppO6Vm8lrnW6"
      }
    },
    {
      "cell_type": "code",
      "source": [
        "maximo = 0\n",
        "for i in range(len(Data[0])):\n",
        "  tamanho=len(Data[0].iloc[i])\n",
        "  if tamanho > maximo:\n",
        "    maximo = tamanho\n",
        "print(maximo)"
      ],
      "metadata": {
        "colab": {
          "base_uri": "https://localhost:8080/"
        },
        "id": "wsyeRwwZrl26",
        "outputId": "cb58d342-1bf6-4b59-9170-92d25784984f"
      },
      "execution_count": 234,
      "outputs": [
        {
          "output_type": "stream",
          "name": "stdout",
          "text": [
            "11\n"
          ]
        }
      ]
    },
    {
      "cell_type": "markdown",
      "source": [
        "O máximo de colunas é 11. Elas ja serao divididas nesse topico para que o conjunto de dados possa ser compreendido melhor. Será verificado o que cada coluna significa, os valores contidos nelas e o tipo de dado de cada uma. "
      ],
      "metadata": {
        "id": "_ItBN4g0sZ5y"
      }
    },
    {
      "cell_type": "code",
      "source": [
        "Data = pd.DataFrame(Data[0].to_list(), columns=[0,1,2,3,4,5,6,7,8,9,10])"
      ],
      "metadata": {
        "id": "OiMM25zz3RSf"
      },
      "execution_count": 280,
      "outputs": []
    },
    {
      "cell_type": "code",
      "source": [
        "#Visualizando a descrição dos dados\n",
        "pd.DataFrame(Data.describe())"
      ],
      "metadata": {
        "colab": {
          "base_uri": "https://localhost:8080/",
          "height": 175
        },
        "id": "E4VI07k3tOl7",
        "outputId": "698dffe6-c7d7-459a-b409-2146190683a7"
      },
      "execution_count": 238,
      "outputs": [
        {
          "output_type": "execute_result",
          "data": {
            "text/plain": [
              "             0        1        2        3        4        5      6  7  8  9   \\\n",
              "count   1098204  1098204  1098204  1098204  1098204  1098204  11738  5  5  5   \n",
              "unique       36        6  1006170     1856     1812     2681      3  4  4  4   \n",
              "top          20  Walking        0        0    19.57     0.0;      ;  0  0  0   \n",
              "freq      56632   424398    12843    16444    16345    12822  11733  2  2  2   \n",
              "\n",
              "          10  \n",
              "count      5  \n",
              "unique     4  \n",
              "top     0.0;  \n",
              "freq       2  "
            ],
            "text/html": [
              "\n",
              "  <div id=\"df-5bf520b3-7a2d-419f-a6e4-873d4905070b\">\n",
              "    <div class=\"colab-df-container\">\n",
              "      <div>\n",
              "<style scoped>\n",
              "    .dataframe tbody tr th:only-of-type {\n",
              "        vertical-align: middle;\n",
              "    }\n",
              "\n",
              "    .dataframe tbody tr th {\n",
              "        vertical-align: top;\n",
              "    }\n",
              "\n",
              "    .dataframe thead th {\n",
              "        text-align: right;\n",
              "    }\n",
              "</style>\n",
              "<table border=\"1\" class=\"dataframe\">\n",
              "  <thead>\n",
              "    <tr style=\"text-align: right;\">\n",
              "      <th></th>\n",
              "      <th>0</th>\n",
              "      <th>1</th>\n",
              "      <th>2</th>\n",
              "      <th>3</th>\n",
              "      <th>4</th>\n",
              "      <th>5</th>\n",
              "      <th>6</th>\n",
              "      <th>7</th>\n",
              "      <th>8</th>\n",
              "      <th>9</th>\n",
              "      <th>10</th>\n",
              "    </tr>\n",
              "  </thead>\n",
              "  <tbody>\n",
              "    <tr>\n",
              "      <th>count</th>\n",
              "      <td>1098204</td>\n",
              "      <td>1098204</td>\n",
              "      <td>1098204</td>\n",
              "      <td>1098204</td>\n",
              "      <td>1098204</td>\n",
              "      <td>1098204</td>\n",
              "      <td>11738</td>\n",
              "      <td>5</td>\n",
              "      <td>5</td>\n",
              "      <td>5</td>\n",
              "      <td>5</td>\n",
              "    </tr>\n",
              "    <tr>\n",
              "      <th>unique</th>\n",
              "      <td>36</td>\n",
              "      <td>6</td>\n",
              "      <td>1006170</td>\n",
              "      <td>1856</td>\n",
              "      <td>1812</td>\n",
              "      <td>2681</td>\n",
              "      <td>3</td>\n",
              "      <td>4</td>\n",
              "      <td>4</td>\n",
              "      <td>4</td>\n",
              "      <td>4</td>\n",
              "    </tr>\n",
              "    <tr>\n",
              "      <th>top</th>\n",
              "      <td>20</td>\n",
              "      <td>Walking</td>\n",
              "      <td>0</td>\n",
              "      <td>0</td>\n",
              "      <td>19.57</td>\n",
              "      <td>0.0;</td>\n",
              "      <td>;</td>\n",
              "      <td>0</td>\n",
              "      <td>0</td>\n",
              "      <td>0</td>\n",
              "      <td>0.0;</td>\n",
              "    </tr>\n",
              "    <tr>\n",
              "      <th>freq</th>\n",
              "      <td>56632</td>\n",
              "      <td>424398</td>\n",
              "      <td>12843</td>\n",
              "      <td>16444</td>\n",
              "      <td>16345</td>\n",
              "      <td>12822</td>\n",
              "      <td>11733</td>\n",
              "      <td>2</td>\n",
              "      <td>2</td>\n",
              "      <td>2</td>\n",
              "      <td>2</td>\n",
              "    </tr>\n",
              "  </tbody>\n",
              "</table>\n",
              "</div>\n",
              "      <button class=\"colab-df-convert\" onclick=\"convertToInteractive('df-5bf520b3-7a2d-419f-a6e4-873d4905070b')\"\n",
              "              title=\"Convert this dataframe to an interactive table.\"\n",
              "              style=\"display:none;\">\n",
              "        \n",
              "  <svg xmlns=\"http://www.w3.org/2000/svg\" height=\"24px\"viewBox=\"0 0 24 24\"\n",
              "       width=\"24px\">\n",
              "    <path d=\"M0 0h24v24H0V0z\" fill=\"none\"/>\n",
              "    <path d=\"M18.56 5.44l.94 2.06.94-2.06 2.06-.94-2.06-.94-.94-2.06-.94 2.06-2.06.94zm-11 1L8.5 8.5l.94-2.06 2.06-.94-2.06-.94L8.5 2.5l-.94 2.06-2.06.94zm10 10l.94 2.06.94-2.06 2.06-.94-2.06-.94-.94-2.06-.94 2.06-2.06.94z\"/><path d=\"M17.41 7.96l-1.37-1.37c-.4-.4-.92-.59-1.43-.59-.52 0-1.04.2-1.43.59L10.3 9.45l-7.72 7.72c-.78.78-.78 2.05 0 2.83L4 21.41c.39.39.9.59 1.41.59.51 0 1.02-.2 1.41-.59l7.78-7.78 2.81-2.81c.8-.78.8-2.07 0-2.86zM5.41 20L4 18.59l7.72-7.72 1.47 1.35L5.41 20z\"/>\n",
              "  </svg>\n",
              "      </button>\n",
              "      \n",
              "  <style>\n",
              "    .colab-df-container {\n",
              "      display:flex;\n",
              "      flex-wrap:wrap;\n",
              "      gap: 12px;\n",
              "    }\n",
              "\n",
              "    .colab-df-convert {\n",
              "      background-color: #E8F0FE;\n",
              "      border: none;\n",
              "      border-radius: 50%;\n",
              "      cursor: pointer;\n",
              "      display: none;\n",
              "      fill: #1967D2;\n",
              "      height: 32px;\n",
              "      padding: 0 0 0 0;\n",
              "      width: 32px;\n",
              "    }\n",
              "\n",
              "    .colab-df-convert:hover {\n",
              "      background-color: #E2EBFA;\n",
              "      box-shadow: 0px 1px 2px rgba(60, 64, 67, 0.3), 0px 1px 3px 1px rgba(60, 64, 67, 0.15);\n",
              "      fill: #174EA6;\n",
              "    }\n",
              "\n",
              "    [theme=dark] .colab-df-convert {\n",
              "      background-color: #3B4455;\n",
              "      fill: #D2E3FC;\n",
              "    }\n",
              "\n",
              "    [theme=dark] .colab-df-convert:hover {\n",
              "      background-color: #434B5C;\n",
              "      box-shadow: 0px 1px 3px 1px rgba(0, 0, 0, 0.15);\n",
              "      filter: drop-shadow(0px 1px 2px rgba(0, 0, 0, 0.3));\n",
              "      fill: #FFFFFF;\n",
              "    }\n",
              "  </style>\n",
              "\n",
              "      <script>\n",
              "        const buttonEl =\n",
              "          document.querySelector('#df-5bf520b3-7a2d-419f-a6e4-873d4905070b button.colab-df-convert');\n",
              "        buttonEl.style.display =\n",
              "          google.colab.kernel.accessAllowed ? 'block' : 'none';\n",
              "\n",
              "        async function convertToInteractive(key) {\n",
              "          const element = document.querySelector('#df-5bf520b3-7a2d-419f-a6e4-873d4905070b');\n",
              "          const dataTable =\n",
              "            await google.colab.kernel.invokeFunction('convertToInteractive',\n",
              "                                                     [key], {});\n",
              "          if (!dataTable) return;\n",
              "\n",
              "          const docLinkHtml = 'Like what you see? Visit the ' +\n",
              "            '<a target=\"_blank\" href=https://colab.research.google.com/notebooks/data_table.ipynb>data table notebook</a>'\n",
              "            + ' to learn more about interactive tables.';\n",
              "          element.innerHTML = '';\n",
              "          dataTable['output_type'] = 'display_data';\n",
              "          await google.colab.output.renderOutput(dataTable, element);\n",
              "          const docLink = document.createElement('div');\n",
              "          docLink.innerHTML = docLinkHtml;\n",
              "          element.appendChild(docLink);\n",
              "        }\n",
              "      </script>\n",
              "    </div>\n",
              "  </div>\n",
              "  "
            ]
          },
          "metadata": {},
          "execution_count": 238
        }
      ]
    },
    {
      "cell_type": "code",
      "source": [
        "#Visualizando 1 instância dos dados\n",
        "pd.DataFrame(Data.head(1))"
      ],
      "metadata": {
        "colab": {
          "base_uri": "https://localhost:8080/",
          "height": 81
        },
        "id": "8k2kUB5g3Puy",
        "outputId": "fcb07988-fd58-4078-ef03-b9f630831bd8"
      },
      "execution_count": 239,
      "outputs": [
        {
          "output_type": "execute_result",
          "data": {
            "text/plain": [
              "   0        1               2           3          4            5     6   \\\n",
              "0  33  Jogging  49105962326000  -0.6946377  12.680544  0.50395286;  None   \n",
              "\n",
              "     7     8     9     10  \n",
              "0  None  None  None  None  "
            ],
            "text/html": [
              "\n",
              "  <div id=\"df-afab3793-e547-4459-a959-687be4bfb63c\">\n",
              "    <div class=\"colab-df-container\">\n",
              "      <div>\n",
              "<style scoped>\n",
              "    .dataframe tbody tr th:only-of-type {\n",
              "        vertical-align: middle;\n",
              "    }\n",
              "\n",
              "    .dataframe tbody tr th {\n",
              "        vertical-align: top;\n",
              "    }\n",
              "\n",
              "    .dataframe thead th {\n",
              "        text-align: right;\n",
              "    }\n",
              "</style>\n",
              "<table border=\"1\" class=\"dataframe\">\n",
              "  <thead>\n",
              "    <tr style=\"text-align: right;\">\n",
              "      <th></th>\n",
              "      <th>0</th>\n",
              "      <th>1</th>\n",
              "      <th>2</th>\n",
              "      <th>3</th>\n",
              "      <th>4</th>\n",
              "      <th>5</th>\n",
              "      <th>6</th>\n",
              "      <th>7</th>\n",
              "      <th>8</th>\n",
              "      <th>9</th>\n",
              "      <th>10</th>\n",
              "    </tr>\n",
              "  </thead>\n",
              "  <tbody>\n",
              "    <tr>\n",
              "      <th>0</th>\n",
              "      <td>33</td>\n",
              "      <td>Jogging</td>\n",
              "      <td>49105962326000</td>\n",
              "      <td>-0.6946377</td>\n",
              "      <td>12.680544</td>\n",
              "      <td>0.50395286;</td>\n",
              "      <td>None</td>\n",
              "      <td>None</td>\n",
              "      <td>None</td>\n",
              "      <td>None</td>\n",
              "      <td>None</td>\n",
              "    </tr>\n",
              "  </tbody>\n",
              "</table>\n",
              "</div>\n",
              "      <button class=\"colab-df-convert\" onclick=\"convertToInteractive('df-afab3793-e547-4459-a959-687be4bfb63c')\"\n",
              "              title=\"Convert this dataframe to an interactive table.\"\n",
              "              style=\"display:none;\">\n",
              "        \n",
              "  <svg xmlns=\"http://www.w3.org/2000/svg\" height=\"24px\"viewBox=\"0 0 24 24\"\n",
              "       width=\"24px\">\n",
              "    <path d=\"M0 0h24v24H0V0z\" fill=\"none\"/>\n",
              "    <path d=\"M18.56 5.44l.94 2.06.94-2.06 2.06-.94-2.06-.94-.94-2.06-.94 2.06-2.06.94zm-11 1L8.5 8.5l.94-2.06 2.06-.94-2.06-.94L8.5 2.5l-.94 2.06-2.06.94zm10 10l.94 2.06.94-2.06 2.06-.94-2.06-.94-.94-2.06-.94 2.06-2.06.94z\"/><path d=\"M17.41 7.96l-1.37-1.37c-.4-.4-.92-.59-1.43-.59-.52 0-1.04.2-1.43.59L10.3 9.45l-7.72 7.72c-.78.78-.78 2.05 0 2.83L4 21.41c.39.39.9.59 1.41.59.51 0 1.02-.2 1.41-.59l7.78-7.78 2.81-2.81c.8-.78.8-2.07 0-2.86zM5.41 20L4 18.59l7.72-7.72 1.47 1.35L5.41 20z\"/>\n",
              "  </svg>\n",
              "      </button>\n",
              "      \n",
              "  <style>\n",
              "    .colab-df-container {\n",
              "      display:flex;\n",
              "      flex-wrap:wrap;\n",
              "      gap: 12px;\n",
              "    }\n",
              "\n",
              "    .colab-df-convert {\n",
              "      background-color: #E8F0FE;\n",
              "      border: none;\n",
              "      border-radius: 50%;\n",
              "      cursor: pointer;\n",
              "      display: none;\n",
              "      fill: #1967D2;\n",
              "      height: 32px;\n",
              "      padding: 0 0 0 0;\n",
              "      width: 32px;\n",
              "    }\n",
              "\n",
              "    .colab-df-convert:hover {\n",
              "      background-color: #E2EBFA;\n",
              "      box-shadow: 0px 1px 2px rgba(60, 64, 67, 0.3), 0px 1px 3px 1px rgba(60, 64, 67, 0.15);\n",
              "      fill: #174EA6;\n",
              "    }\n",
              "\n",
              "    [theme=dark] .colab-df-convert {\n",
              "      background-color: #3B4455;\n",
              "      fill: #D2E3FC;\n",
              "    }\n",
              "\n",
              "    [theme=dark] .colab-df-convert:hover {\n",
              "      background-color: #434B5C;\n",
              "      box-shadow: 0px 1px 3px 1px rgba(0, 0, 0, 0.15);\n",
              "      filter: drop-shadow(0px 1px 2px rgba(0, 0, 0, 0.3));\n",
              "      fill: #FFFFFF;\n",
              "    }\n",
              "  </style>\n",
              "\n",
              "      <script>\n",
              "        const buttonEl =\n",
              "          document.querySelector('#df-afab3793-e547-4459-a959-687be4bfb63c button.colab-df-convert');\n",
              "        buttonEl.style.display =\n",
              "          google.colab.kernel.accessAllowed ? 'block' : 'none';\n",
              "\n",
              "        async function convertToInteractive(key) {\n",
              "          const element = document.querySelector('#df-afab3793-e547-4459-a959-687be4bfb63c');\n",
              "          const dataTable =\n",
              "            await google.colab.kernel.invokeFunction('convertToInteractive',\n",
              "                                                     [key], {});\n",
              "          if (!dataTable) return;\n",
              "\n",
              "          const docLinkHtml = 'Like what you see? Visit the ' +\n",
              "            '<a target=\"_blank\" href=https://colab.research.google.com/notebooks/data_table.ipynb>data table notebook</a>'\n",
              "            + ' to learn more about interactive tables.';\n",
              "          element.innerHTML = '';\n",
              "          dataTable['output_type'] = 'display_data';\n",
              "          await google.colab.output.renderOutput(dataTable, element);\n",
              "          const docLink = document.createElement('div');\n",
              "          docLink.innerHTML = docLinkHtml;\n",
              "          element.appendChild(docLink);\n",
              "        }\n",
              "      </script>\n",
              "    </div>\n",
              "  </div>\n",
              "  "
            ]
          },
          "metadata": {},
          "execution_count": 239
        }
      ]
    },
    {
      "cell_type": "code",
      "source": [
        "#Visualizando valores unicos das colunas que tem menos valores nulos pela descriçao\n",
        "print('Valores únicos coluna 0:', Data[0].unique())\n",
        "print('Valores únicos coluna 1:', Data[1].unique())\n",
        "print('Valores únicos coluna 3:', Data[3].unique())\n",
        "print('Valores únicos coluna 4:', Data[4].unique())\n",
        "print('Valores únicos coluna 5:', Data[5].unique())"
      ],
      "metadata": {
        "colab": {
          "base_uri": "https://localhost:8080/"
        },
        "id": "ass8_j5UwZPj",
        "outputId": "7d752957-81b1-4684-8eff-f6e1dc7c9366"
      },
      "execution_count": 243,
      "outputs": [
        {
          "output_type": "stream",
          "name": "stdout",
          "text": [
            "Valores únicos coluna 0: ['33' '17' '20' '29' '13' '15' '6' '27' '36' '18' '32' '35' '11' '16' '5'\n",
            " '10' '28' '26' '14' '24' '12' '23' '4' '30' '34' '8' '31' '21' '3' '22'\n",
            " '1' '9' '25' '2' '7' '19']\n",
            "Valores únicos coluna 1: ['Jogging' 'Walking' 'Upstairs' 'Downstairs' 'Sitting' 'Standing']\n",
            "Valores únicos coluna 3: ['-0.6946377' '5.012288' '4.903325' ... '19.65' '19.91' '19.95']\n",
            "Valores únicos coluna 4: ['12.680544' '11.264028' '10.882658' ... '20.04' '19.8' '19.89']\n",
            "Valores únicos coluna 5: ['0.50395286;' '0.95342433;' '-0.08172209;' ... '-19.76;' '-19.8;'\n",
            " '-19.7;']\n"
          ]
        }
      ]
    },
    {
      "cell_type": "code",
      "source": [
        "#Visualizando valores unicos das colunas que tem mais valores nulos pela descriçao\n",
        "print('Valores únicos coluna 6:', Data[6].unique())\n",
        "print('Valores únicos coluna 7:', Data[7].unique())\n",
        "print('Valores únicos coluna 8:', Data[8].unique())\n",
        "print('Valores únicos coluna 9:', Data[9].unique())\n",
        "print('Valores únicos coluna 10:', Data[10].unique())"
      ],
      "metadata": {
        "colab": {
          "base_uri": "https://localhost:8080/"
        },
        "id": "ByqvqriZ3pFw",
        "outputId": "89fc3165-8025-4621-a704-790011b521e4"
      },
      "execution_count": 240,
      "outputs": [
        {
          "output_type": "stream",
          "name": "stdout",
          "text": [
            "Valores únicos coluna 6: [None 'Jogging' 'Walking' ';']\n",
            "Valores únicos coluna 7: [None '328982249000' '0' '1202262279000' '295812327000']\n",
            "Valores únicos coluna 8: [None '5.37' '0' '-1.23' '0.8']\n",
            "Valores únicos coluna 9: [None '-3.36' '0' '3.45' '18.96']\n",
            "Valores únicos coluna 10: [None '7.3141265;' '0.0;' '-0.38136974;' '13.57;']\n"
          ]
        }
      ]
    },
    {
      "cell_type": "code",
      "source": [
        "#Visualizando a quantidade das açoes da coluna 6 que parecem ser consecutivas a primeira açao \n",
        "print(Data[Data[6] == ';'].shape)\n",
        "print(Data[Data[6] == 'Jogging'].shape)\n",
        "print(Data[Data[6] == 'Walking'].shape)"
      ],
      "metadata": {
        "colab": {
          "base_uri": "https://localhost:8080/"
        },
        "id": "lti-v3tV5YhW",
        "outputId": "bb618a98-01a6-4d81-900a-8c53c4ee5c5a"
      },
      "execution_count": 246,
      "outputs": [
        {
          "output_type": "stream",
          "name": "stdout",
          "text": [
            "(11733, 11)\n",
            "(3, 11)\n",
            "(2, 11)\n"
          ]
        }
      ]
    },
    {
      "cell_type": "code",
      "source": [
        "#Visualizando açoes com ';'\n",
        "Data[Data[6] == ';'][[7,8,9,10]].describe()"
      ],
      "metadata": {
        "colab": {
          "base_uri": "https://localhost:8080/",
          "height": 175
        },
        "id": "HLTS5T415ssM",
        "outputId": "18425b40-32f8-495b-9aec-79ddd05b20ae"
      },
      "execution_count": 258,
      "outputs": [
        {
          "output_type": "execute_result",
          "data": {
            "text/plain": [
              "         7    8    9    10\n",
              "count     0    0    0    0\n",
              "unique    0    0    0    0\n",
              "top     NaN  NaN  NaN  NaN\n",
              "freq    NaN  NaN  NaN  NaN"
            ],
            "text/html": [
              "\n",
              "  <div id=\"df-146cacd3-c16c-40ec-9335-3599f9afbe64\">\n",
              "    <div class=\"colab-df-container\">\n",
              "      <div>\n",
              "<style scoped>\n",
              "    .dataframe tbody tr th:only-of-type {\n",
              "        vertical-align: middle;\n",
              "    }\n",
              "\n",
              "    .dataframe tbody tr th {\n",
              "        vertical-align: top;\n",
              "    }\n",
              "\n",
              "    .dataframe thead th {\n",
              "        text-align: right;\n",
              "    }\n",
              "</style>\n",
              "<table border=\"1\" class=\"dataframe\">\n",
              "  <thead>\n",
              "    <tr style=\"text-align: right;\">\n",
              "      <th></th>\n",
              "      <th>7</th>\n",
              "      <th>8</th>\n",
              "      <th>9</th>\n",
              "      <th>10</th>\n",
              "    </tr>\n",
              "  </thead>\n",
              "  <tbody>\n",
              "    <tr>\n",
              "      <th>count</th>\n",
              "      <td>0</td>\n",
              "      <td>0</td>\n",
              "      <td>0</td>\n",
              "      <td>0</td>\n",
              "    </tr>\n",
              "    <tr>\n",
              "      <th>unique</th>\n",
              "      <td>0</td>\n",
              "      <td>0</td>\n",
              "      <td>0</td>\n",
              "      <td>0</td>\n",
              "    </tr>\n",
              "    <tr>\n",
              "      <th>top</th>\n",
              "      <td>NaN</td>\n",
              "      <td>NaN</td>\n",
              "      <td>NaN</td>\n",
              "      <td>NaN</td>\n",
              "    </tr>\n",
              "    <tr>\n",
              "      <th>freq</th>\n",
              "      <td>NaN</td>\n",
              "      <td>NaN</td>\n",
              "      <td>NaN</td>\n",
              "      <td>NaN</td>\n",
              "    </tr>\n",
              "  </tbody>\n",
              "</table>\n",
              "</div>\n",
              "      <button class=\"colab-df-convert\" onclick=\"convertToInteractive('df-146cacd3-c16c-40ec-9335-3599f9afbe64')\"\n",
              "              title=\"Convert this dataframe to an interactive table.\"\n",
              "              style=\"display:none;\">\n",
              "        \n",
              "  <svg xmlns=\"http://www.w3.org/2000/svg\" height=\"24px\"viewBox=\"0 0 24 24\"\n",
              "       width=\"24px\">\n",
              "    <path d=\"M0 0h24v24H0V0z\" fill=\"none\"/>\n",
              "    <path d=\"M18.56 5.44l.94 2.06.94-2.06 2.06-.94-2.06-.94-.94-2.06-.94 2.06-2.06.94zm-11 1L8.5 8.5l.94-2.06 2.06-.94-2.06-.94L8.5 2.5l-.94 2.06-2.06.94zm10 10l.94 2.06.94-2.06 2.06-.94-2.06-.94-.94-2.06-.94 2.06-2.06.94z\"/><path d=\"M17.41 7.96l-1.37-1.37c-.4-.4-.92-.59-1.43-.59-.52 0-1.04.2-1.43.59L10.3 9.45l-7.72 7.72c-.78.78-.78 2.05 0 2.83L4 21.41c.39.39.9.59 1.41.59.51 0 1.02-.2 1.41-.59l7.78-7.78 2.81-2.81c.8-.78.8-2.07 0-2.86zM5.41 20L4 18.59l7.72-7.72 1.47 1.35L5.41 20z\"/>\n",
              "  </svg>\n",
              "      </button>\n",
              "      \n",
              "  <style>\n",
              "    .colab-df-container {\n",
              "      display:flex;\n",
              "      flex-wrap:wrap;\n",
              "      gap: 12px;\n",
              "    }\n",
              "\n",
              "    .colab-df-convert {\n",
              "      background-color: #E8F0FE;\n",
              "      border: none;\n",
              "      border-radius: 50%;\n",
              "      cursor: pointer;\n",
              "      display: none;\n",
              "      fill: #1967D2;\n",
              "      height: 32px;\n",
              "      padding: 0 0 0 0;\n",
              "      width: 32px;\n",
              "    }\n",
              "\n",
              "    .colab-df-convert:hover {\n",
              "      background-color: #E2EBFA;\n",
              "      box-shadow: 0px 1px 2px rgba(60, 64, 67, 0.3), 0px 1px 3px 1px rgba(60, 64, 67, 0.15);\n",
              "      fill: #174EA6;\n",
              "    }\n",
              "\n",
              "    [theme=dark] .colab-df-convert {\n",
              "      background-color: #3B4455;\n",
              "      fill: #D2E3FC;\n",
              "    }\n",
              "\n",
              "    [theme=dark] .colab-df-convert:hover {\n",
              "      background-color: #434B5C;\n",
              "      box-shadow: 0px 1px 3px 1px rgba(0, 0, 0, 0.15);\n",
              "      filter: drop-shadow(0px 1px 2px rgba(0, 0, 0, 0.3));\n",
              "      fill: #FFFFFF;\n",
              "    }\n",
              "  </style>\n",
              "\n",
              "      <script>\n",
              "        const buttonEl =\n",
              "          document.querySelector('#df-146cacd3-c16c-40ec-9335-3599f9afbe64 button.colab-df-convert');\n",
              "        buttonEl.style.display =\n",
              "          google.colab.kernel.accessAllowed ? 'block' : 'none';\n",
              "\n",
              "        async function convertToInteractive(key) {\n",
              "          const element = document.querySelector('#df-146cacd3-c16c-40ec-9335-3599f9afbe64');\n",
              "          const dataTable =\n",
              "            await google.colab.kernel.invokeFunction('convertToInteractive',\n",
              "                                                     [key], {});\n",
              "          if (!dataTable) return;\n",
              "\n",
              "          const docLinkHtml = 'Like what you see? Visit the ' +\n",
              "            '<a target=\"_blank\" href=https://colab.research.google.com/notebooks/data_table.ipynb>data table notebook</a>'\n",
              "            + ' to learn more about interactive tables.';\n",
              "          element.innerHTML = '';\n",
              "          dataTable['output_type'] = 'display_data';\n",
              "          await google.colab.output.renderOutput(dataTable, element);\n",
              "          const docLink = document.createElement('div');\n",
              "          docLink.innerHTML = docLinkHtml;\n",
              "          element.appendChild(docLink);\n",
              "        }\n",
              "      </script>\n",
              "    </div>\n",
              "  </div>\n",
              "  "
            ]
          },
          "metadata": {},
          "execution_count": 258
        }
      ]
    },
    {
      "cell_type": "code",
      "source": [
        "#Verificando o tipo de dado de cada coluna\n",
        "Data.info()"
      ],
      "metadata": {
        "colab": {
          "base_uri": "https://localhost:8080/"
        },
        "id": "t_rSif1g7yTe",
        "outputId": "42317e02-0590-4088-fd3e-0e7f60a4b82c"
      },
      "execution_count": 259,
      "outputs": [
        {
          "output_type": "stream",
          "name": "stdout",
          "text": [
            "<class 'pandas.core.frame.DataFrame'>\n",
            "RangeIndex: 1098204 entries, 0 to 1098203\n",
            "Data columns (total 11 columns):\n",
            " #   Column  Non-Null Count    Dtype \n",
            "---  ------  --------------    ----- \n",
            " 0   0       1098204 non-null  object\n",
            " 1   1       1098204 non-null  object\n",
            " 2   2       1098204 non-null  object\n",
            " 3   3       1098204 non-null  object\n",
            " 4   4       1098204 non-null  object\n",
            " 5   5       1098204 non-null  object\n",
            " 6   6       11738 non-null    object\n",
            " 7   7       5 non-null        object\n",
            " 8   8       5 non-null        object\n",
            " 9   9       5 non-null        object\n",
            " 10  10      5 non-null        object\n",
            "dtypes: object(11)\n",
            "memory usage: 92.2+ MB\n"
          ]
        }
      ]
    },
    {
      "cell_type": "markdown",
      "source": [
        "Observaçoes obtidas sobre os campos e o entendimento do que representa provavelmente cada um, de acordo com a descriçao do desafio:\n",
        "\n",
        "*   0 é o individuo - Existem 36 indivíduos\n",
        "*   1 e 6 a atividade - Existem 6 ações, na coluna 6 precisa ser retirado o ';' que foi uma falha no registro apenas e nao significa uma outra açao pois as colunas 7,8,9 e 10 nao trazem nada. Além disso, sera considerada também a açao de nao faze nada, que corresponde ao campo nulo da coluna 6. \n",
        "*   2 e o 7 o timestamp - Esta em Nanossegundo e precisa vir pra segundo, na coluna 7 o campo 0 precisa ser transformado de string pra numero\n",
        "*   trio 3, 4 e 5  e o 8, 9 e 10 as acelerações de X, Y e Z cada um respectivamente - Verificar a quantidade de casas decimais. Para o 8, 9 e 10 provavelmente o indivíduo realizou ações consecutivas e essas colunas não devem ser apagadas mas representam uma informação importante.\n",
        "\n",
        "A seguir algumas observaçoes que serao necessarias para cada etapa: \n",
        "\n",
        "*   Limpeza: Retirar duplicatas, preencher valores ausentes pode ser 0 ja que nenhuma açao gera nenhuma aceleraçao nos campos dos registros dos sensores\n",
        "*   Pré-processamento: Ajeitar valores das colunas 5,6 e 10 que alguns vem com o caracter ';' , categorizar as colunas 1 e 6, transformar coluna 7 o valor 0 de string pra numero e transformar de nanossegundo para segundo nas colunas 7 e 2, transformar os dados pra numéricos\n",
        "*   Os algoritmos demandados requerem que seja feita normalizaçao, sobretudo uma vez que o XGBoost sera aplicado e tem por base o conceito de gradient descendent. Contudo, essa sera aplicada junto ao classificador a partir da biblioteca pipeline. \n",
        "\n"
      ],
      "metadata": {
        "id": "tReEu1D8t7Kn"
      }
    },
    {
      "cell_type": "markdown",
      "source": [
        "#### Limpeza dos Dados "
      ],
      "metadata": {
        "id": "Ka5X-gUG4HzN"
      }
    },
    {
      "cell_type": "code",
      "source": [
        "# Retirada de duplicatas caso existam\n",
        "print(Data.shape) #antigo tamanho do dataframe\n",
        "print(Data.duplicated().sum())\n",
        "Data = Data.drop_duplicates()\n",
        "print(Data.shape) #novo tamanho do dataframe"
      ],
      "metadata": {
        "colab": {
          "base_uri": "https://localhost:8080/"
        },
        "id": "vy9Juhpl8fV0",
        "outputId": "4e0a7c7b-b158-47df-da63-b458caeb4a78"
      },
      "execution_count": 281,
      "outputs": [
        {
          "output_type": "stream",
          "name": "stdout",
          "text": [
            "(1098204, 11)\n",
            "66817\n",
            "(1031387, 11)\n"
          ]
        }
      ]
    },
    {
      "cell_type": "markdown",
      "source": [
        "Existem agora 1031387 instâncias. "
      ],
      "metadata": {
        "id": "ruiH6UaYzBAP"
      }
    },
    {
      "cell_type": "code",
      "source": [
        "#Preenchimento de valores ausentes colunas 0 a 5\n",
        "print(Data[[0,1,2,3,4,5]].isnull().sum())"
      ],
      "metadata": {
        "colab": {
          "base_uri": "https://localhost:8080/"
        },
        "id": "odoMR1i89KxW",
        "outputId": "18ab2566-715c-4419-a3a3-5d90e75ee343"
      },
      "execution_count": 262,
      "outputs": [
        {
          "output_type": "stream",
          "name": "stdout",
          "text": [
            "0    0\n",
            "1    0\n",
            "2    0\n",
            "3    0\n",
            "4    0\n",
            "5    0\n",
            "dtype: int64\n"
          ]
        }
      ]
    },
    {
      "cell_type": "code",
      "source": [
        "#Preenchimento de valores ausentes colunas 6 a 10\n",
        "Data[6]=Data[6].fillna(0)\n",
        "Data[7]=Data[7].fillna(0) \n",
        "Data[8]=Data[8].fillna(0)\n",
        "Data[9]=Data[9].fillna(0)\n",
        "Data[10]=Data[10].fillna(0)"
      ],
      "metadata": {
        "id": "7UTODfmh9OS8"
      },
      "execution_count": 282,
      "outputs": []
    },
    {
      "cell_type": "code",
      "source": [
        "#Verificaçao do Preenchimento de valores ausentes \n",
        "print(Data[[6,7,8,9,10]].isnull().sum())"
      ],
      "metadata": {
        "id": "eosgzqff0JoO",
        "colab": {
          "base_uri": "https://localhost:8080/"
        },
        "outputId": "df87110f-8fff-4fba-df3e-7203808e529f"
      },
      "execution_count": 263,
      "outputs": [
        {
          "output_type": "stream",
          "name": "stdout",
          "text": [
            "6     0\n",
            "7     0\n",
            "8     0\n",
            "9     0\n",
            "10    0\n",
            "dtype: int64\n"
          ]
        }
      ]
    },
    {
      "cell_type": "markdown",
      "source": [
        "#### Pré-processamento "
      ],
      "metadata": {
        "id": "9P2i1v6587zu"
      }
    },
    {
      "cell_type": "code",
      "source": [
        "#Para a atividade de Substituição das variaveis categoricas\n",
        "le = LabelEncoder()"
      ],
      "metadata": {
        "id": "Okqb73W5-e8j"
      },
      "execution_count": 272,
      "outputs": []
    },
    {
      "cell_type": "code",
      "source": [
        "#Corrigindo valores colunas 5,6 e 10\n",
        "Data[6] = Data[6].replace(';','0')\n",
        "Data[6] = Data[6].replace(0,'0')"
      ],
      "metadata": {
        "id": "SiICdLzLK2An"
      },
      "execution_count": 283,
      "outputs": []
    },
    {
      "cell_type": "code",
      "source": [
        "print(Data[5].unique())\n",
        "print(Data[10].unique())"
      ],
      "metadata": {
        "colab": {
          "base_uri": "https://localhost:8080/"
        },
        "id": "ODDSuGMb--Ag",
        "outputId": "b4374141-3f1a-4cbe-cd60-223929e1971b"
      },
      "execution_count": 284,
      "outputs": [
        {
          "output_type": "stream",
          "name": "stdout",
          "text": [
            "['0.50395286;' '0.95342433;' '-0.08172209;' ... '-19.76;' '-19.8;'\n",
            " '-19.7;']\n",
            "[0 '7.3141265;' '0.0;' '-0.38136974;' '13.57;']\n"
          ]
        }
      ]
    },
    {
      "cell_type": "code",
      "source": [
        "#Substituindo valores da Coluna 5\n",
        "print(Data[Data[5].str.contains(\";\")].shape) #verificando quantos valores tem ';' nessa coluna\n",
        "\n",
        "def Remove_string(string): #funçao para apagar ';' da string\n",
        "  return  re.sub(';','',string)\n",
        "\n",
        "Data[5] = Data[5].map(Remove_string)\n",
        "\n",
        "print(Data[Data[5].str.contains(\";\")].shape) #verificando se ';' foi retirado de todas"
      ],
      "metadata": {
        "colab": {
          "base_uri": "https://localhost:8080/"
        },
        "id": "vtMWsgV6_KWf",
        "outputId": "ec3f396d-24e6-4be2-be8d-2d7b3f15faa3"
      },
      "execution_count": 290,
      "outputs": [
        {
          "output_type": "stream",
          "name": "stdout",
          "text": [
            "(1019883, 11)\n",
            "(0, 11)\n"
          ]
        }
      ]
    },
    {
      "cell_type": "code",
      "source": [
        "#Substituindo valores da Coluna 10\n",
        "Substitute_string={0:'0.0','7.3141265;':'7.3141265','0.0;':'0.0','-0.38136974;':'-0.38136974','13.57;':'13.57'} #função para substituir os valores\n",
        "Data[10]=Data[10].map(Substitute_string) #aplicação da função\n",
        "Data[Data[10].str.contains(\";\")].shape #verificação se os valores foram substituidos"
      ],
      "metadata": {
        "colab": {
          "base_uri": "https://localhost:8080/"
        },
        "id": "kes-IBlk_Dx8",
        "outputId": "b494528e-4931-4a09-b8ac-3bf8b068dbb0"
      },
      "execution_count": 292,
      "outputs": [
        {
          "output_type": "execute_result",
          "data": {
            "text/plain": [
              "(0, 11)"
            ]
          },
          "metadata": {},
          "execution_count": 292
        }
      ]
    },
    {
      "cell_type": "code",
      "source": [
        "#Categorizando colunas 1 e 6 \n",
        "Data[1] = le.fit_transform(Data[1])\n",
        "Data[6] = le.fit_transform(Data[6])"
      ],
      "metadata": {
        "id": "sxLYkNp4-uQ_"
      },
      "execution_count": 293,
      "outputs": []
    },
    {
      "cell_type": "markdown",
      "source": [
        "Para a transformaçao de Nanossegundo pra segundo, a variaçao sao de 1e-09 (10 elevado a 9) casas. Adotou-se por abordagem a retirada dos 9 ultimos elementos e mantida a parte inteira desse dado, o que corresponde aos segundos. "
      ],
      "metadata": {
        "id": "dJhmQCFhB2we"
      }
    },
    {
      "cell_type": "code",
      "source": [
        "#Corrigindo coluna 7 \n",
        "[7]=Data[7].fillna(0) "
      ],
      "metadata": {
        "id": "lA7RH3XCQ3Pf"
      },
      "execution_count": 207,
      "outputs": []
    },
    {
      "cell_type": "code",
      "source": [
        "Data[7].unique()"
      ],
      "metadata": {
        "colab": {
          "base_uri": "https://localhost:8080/"
        },
        "id": "mqJh5S94Q5yV",
        "outputId": "ff6583e9-9c2d-4080-b9c7-879c9a79766d"
      },
      "execution_count": 298,
      "outputs": [
        {
          "output_type": "execute_result",
          "data": {
            "text/plain": [
              "array([0, '328982249000', '0', '1202262279000', '295812327000'],\n",
              "      dtype=object)"
            ]
          },
          "metadata": {},
          "execution_count": 298
        }
      ]
    },
    {
      "cell_type": "code",
      "source": [
        "Change_time_7={0:'0','0':'0','328982249000':'328','1202262279000':'12022','295812327000':'2958'}\n",
        "Data[7]=Data[7].map(Change_time_7)\n",
        "\n",
        "#Corrigindo a coluna 2\n",
        "def Change_time_2(item): #funçao para correçao da coluna 2\n",
        "  size = len(item)\n",
        "  return item[:size - 9]\n",
        "Data[2] = Data[2].map(Change_time_2)"
      ],
      "metadata": {
        "id": "m9RAyBrcE-s6"
      },
      "execution_count": 299,
      "outputs": []
    },
    {
      "cell_type": "code",
      "source": [
        "#Transformaçao dos dados para numerico\n",
        "\n",
        "#Novamente verificando o tipo de dado\n",
        "Data.info()"
      ],
      "metadata": {
        "colab": {
          "base_uri": "https://localhost:8080/"
        },
        "id": "veI3HAXMC5oR",
        "outputId": "27f1c94c-80bd-4a4c-9c5c-eb4d09cfb785"
      },
      "execution_count": 304,
      "outputs": [
        {
          "output_type": "stream",
          "name": "stdout",
          "text": [
            "<class 'pandas.core.frame.DataFrame'>\n",
            "Int64Index: 1031387 entries, 0 to 1098203\n",
            "Data columns (total 11 columns):\n",
            " #   Column  Non-Null Count    Dtype \n",
            "---  ------  --------------    ----- \n",
            " 0   0       1031387 non-null  object\n",
            " 1   1       1031387 non-null  int64 \n",
            " 2   2       1031387 non-null  object\n",
            " 3   3       1031387 non-null  object\n",
            " 4   4       1031387 non-null  object\n",
            " 5   5       1031387 non-null  object\n",
            " 6   6       1031387 non-null  int64 \n",
            " 7   7       1031387 non-null  object\n",
            " 8   8       1031387 non-null  object\n",
            " 9   9       1031387 non-null  object\n",
            " 10  10      1031387 non-null  object\n",
            "dtypes: int64(2), object(9)\n",
            "memory usage: 94.4+ MB\n"
          ]
        }
      ]
    },
    {
      "cell_type": "markdown",
      "source": [
        "As correçoes serao feitas para os que ainda nao sao numéricos."
      ],
      "metadata": {
        "id": "j0dDaBb_S5ij"
      }
    },
    {
      "cell_type": "code",
      "source": [
        "#convertendo os tipos de variaveis\n",
        "## individuo\n",
        "Data[0] = Data[0].apply(int)\n",
        "\n",
        "## timestamp\n",
        "Data[2] = pd.to_numeric(Data[2])\n",
        "Data[7] = pd.to_numeric(Data[7])\n",
        "\n",
        "## acelerações X, Y e Z\n",
        "Data[3] = Data[3].apply(float)\n",
        "Data[4] = Data[4].apply(float)\n",
        "Data[5] = pd.to_numeric(Data[5])\n",
        "\n",
        "Data[8] = Data[8].apply(float)\n",
        "Data[9] = Data[9].apply(float)\n",
        "Data[10] = Data[10].apply(float)"
      ],
      "metadata": {
        "id": "p5fk_d7xbQPb"
      },
      "execution_count": 305,
      "outputs": []
    },
    {
      "cell_type": "code",
      "source": [
        "#Verificando mais uma vez os dados estao numericos\n",
        "Data.info()"
      ],
      "metadata": {
        "colab": {
          "base_uri": "https://localhost:8080/"
        },
        "id": "JddTeki6R9v1",
        "outputId": "a169f51a-a2cc-4b33-a84a-4aba2cd76dd4"
      },
      "execution_count": 308,
      "outputs": [
        {
          "output_type": "stream",
          "name": "stdout",
          "text": [
            "<class 'pandas.core.frame.DataFrame'>\n",
            "Int64Index: 1031387 entries, 0 to 1098203\n",
            "Data columns (total 11 columns):\n",
            " #   Column  Non-Null Count    Dtype  \n",
            "---  ------  --------------    -----  \n",
            " 0   0       1031387 non-null  int64  \n",
            " 1   1       1031387 non-null  int64  \n",
            " 2   2       1031343 non-null  float64\n",
            " 3   3       1031387 non-null  float64\n",
            " 4   4       1031387 non-null  float64\n",
            " 5   5       1031386 non-null  float64\n",
            " 6   6       1031387 non-null  int64  \n",
            " 7   7       1031387 non-null  int64  \n",
            " 8   8       1031387 non-null  float64\n",
            " 9   9       1031387 non-null  float64\n",
            " 10  10      1031387 non-null  float64\n",
            "dtypes: float64(7), int64(4)\n",
            "memory usage: 94.4 MB\n"
          ]
        }
      ]
    },
    {
      "cell_type": "code",
      "source": [
        "#Retirada de valores nulos pela tabela\n",
        "Data.dropna(inplace=True)"
      ],
      "metadata": {
        "id": "3QkSnZWvEmSM"
      },
      "execution_count": 309,
      "outputs": []
    },
    {
      "cell_type": "code",
      "source": [
        "#Verificando mais uma vez os dados estao nao nulos\n",
        "Data.info()"
      ],
      "metadata": {
        "colab": {
          "base_uri": "https://localhost:8080/"
        },
        "id": "QSgtIuQNEtMv",
        "outputId": "6bb4924c-9be3-4638-be44-1e26d6c05e6a"
      },
      "execution_count": 310,
      "outputs": [
        {
          "output_type": "stream",
          "name": "stdout",
          "text": [
            "<class 'pandas.core.frame.DataFrame'>\n",
            "Int64Index: 1031342 entries, 0 to 1098203\n",
            "Data columns (total 11 columns):\n",
            " #   Column  Non-Null Count    Dtype  \n",
            "---  ------  --------------    -----  \n",
            " 0   0       1031342 non-null  int64  \n",
            " 1   1       1031342 non-null  int64  \n",
            " 2   2       1031342 non-null  float64\n",
            " 3   3       1031342 non-null  float64\n",
            " 4   4       1031342 non-null  float64\n",
            " 5   5       1031342 non-null  float64\n",
            " 6   6       1031342 non-null  int64  \n",
            " 7   7       1031342 non-null  int64  \n",
            " 8   8       1031342 non-null  float64\n",
            " 9   9       1031342 non-null  float64\n",
            " 10  10      1031342 non-null  float64\n",
            "dtypes: float64(7), int64(4)\n",
            "memory usage: 94.4 MB\n"
          ]
        }
      ]
    },
    {
      "cell_type": "markdown",
      "source": [
        "Os dados sao salvos no arquivo abaixo para a parte da detecçao das atividades. "
      ],
      "metadata": {
        "id": "xFrRyg4WbzEk"
      }
    },
    {
      "cell_type": "code",
      "source": [
        "Data.to_csv('Dados_pre_processados.csv')"
      ],
      "metadata": {
        "id": "Ql-OsXcueJms"
      },
      "execution_count": 349,
      "outputs": []
    }
  ]
}